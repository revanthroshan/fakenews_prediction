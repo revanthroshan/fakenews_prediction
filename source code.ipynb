{
  "cells": [
    {
      "cell_type": "code",
      "execution_count": 1,
      "id": "8f334637",
      "metadata": {
        "_cell_guid": "b1076dfc-b9ad-4769-8c92-a6c4dae69d19",
        "_uuid": "8f2839f25d086af736a60e9eeb907d3b93b6e0e5",
        "execution": {
          "iopub.execute_input": "2024-02-21T13:29:05.545459Z",
          "iopub.status.busy": "2024-02-21T13:29:05.544632Z",
          "iopub.status.idle": "2024-02-21T13:29:06.241122Z",
          "shell.execute_reply": "2024-02-21T13:29:06.240099Z"
        },
        "papermill": {
          "duration": 0.712131,
          "end_time": "2024-02-21T13:29:06.243291",
          "exception": false,
          "start_time": "2024-02-21T13:29:05.531160",
          "status": "completed"
        },
        "tags": [],
        "id": "8f334637"
      },
      "outputs": [],
      "source": [
        "# This Python 3 environment comes with many helpful analytics libraries installed\n",
        "# It is defined by the kaggle/python Docker image: https://github.com/kaggle/docker-python\n",
        "# For example, here's several helpful packages to load\n",
        "\n",
        "import numpy as np # linear algebra\n",
        "import pandas as pd # data processing, CSV file I/O (e.g. pd.read_csv)\n",
        "\n",
        "# Input data files are available in the read-only \"../input/\" directory\n",
        "# For example, running this (by clicking run or pressing Shift+Enter) will list all files under the input directory\n",
        "\n",
        "import os\n",
        "for dirname, _, filenames in os.walk('/kaggle/input'):\n",
        "    for filename in filenames:\n",
        "        print(os.path.join(dirname, filename))\n",
        "\n",
        "# You can write up to 20GB to the current directory (/kaggle/working/) that gets preserved as output when you create a version using \"Save & Run All\"\n",
        "# You can also write temporary files to /kaggle/temp/, but they won't be saved outside of the current session"
      ]
    },
    {
      "cell_type": "markdown",
      "id": "b775939b",
      "metadata": {
        "papermill": {
          "duration": 0.01114,
          "end_time": "2024-02-21T13:29:06.266161",
          "exception": false,
          "start_time": "2024-02-21T13:29:06.255021",
          "status": "completed"
        },
        "tags": [],
        "id": "b775939b"
      },
      "source": [
        "![man-looking-online-coronavirus-updates_52683-49025.jpg](attachment:50672340-5192-4dbf-ade6-5ef32149aacd.jpg)"
      ]
    },
    {
      "cell_type": "markdown",
      "id": "3daabef2",
      "metadata": {
        "papermill": {
          "duration": 0.011262,
          "end_time": "2024-02-21T13:29:06.288995",
          "exception": false,
          "start_time": "2024-02-21T13:29:06.277733",
          "status": "completed"
        },
        "tags": [],
        "id": "3daabef2"
      },
      "source": [
        "# Summary🖋️\n",
        "Fake news refers to deliberately fabricated or misleading information presented as factual news. It often aims to deceive readers or viewers for various purposes, such as influencing opinions, spreading propaganda, or generating revenue through clicks. Detecting fake news is crucial in combating misinformation and maintaining the integrity of journalism and public discourse. Deep learning techniques, such as natural language processing and neural networks, can be effective in identifying patterns and features indicative of fake news, helping to automate the process of verification and fact-checking."
      ]
    },
    {
      "cell_type": "markdown",
      "id": "efe7077d",
      "metadata": {
        "papermill": {
          "duration": 0.011942,
          "end_time": "2024-02-21T13:29:06.312195",
          "exception": false,
          "start_time": "2024-02-21T13:29:06.300253",
          "status": "completed"
        },
        "tags": [],
        "id": "efe7077d"
      },
      "source": [
        "# What you will find in this notebook📒-\n",
        "1. Utilizing **LSTM (Long Short-Term Memory) RNN** for Fake News Detection.\n",
        "2. Feature embedding is constructed before LSTM, facilitating data representation.\n",
        "3. Preprocessing includes **stemming\n",
        "SnowballStemmer\n",
        "regex** using **stemming\n",
        "SnowballStemmer\n",
        "regex** and **stemming\n",
        "SnowballStemmer\n",
        "regex** cleaning.\n",
        "4. One-hot encoding by **Keras** prepares textual data for LSTM input.\n",
        "5. Adam optimizer and **binary_crossentropy** loss function are employed during model compilation.\n",
        "6. Model performance evaluation includes **classification report and confusion matrix**.\n",
        "7. Determination of the optimal **threshold value** for prediction refinement."
      ]
    },
    {
      "cell_type": "markdown",
      "id": "57363773",
      "metadata": {
        "papermill": {
          "duration": 0.011031,
          "end_time": "2024-02-21T13:29:06.334456",
          "exception": false,
          "start_time": "2024-02-21T13:29:06.323425",
          "status": "completed"
        },
        "tags": [],
        "id": "57363773"
      },
      "source": [
        "# Let's Dive In🏊‍"
      ]
    },
    {
      "cell_type": "code",
      "execution_count": 2,
      "id": "65dac56c",
      "metadata": {
        "execution": {
          "iopub.execute_input": "2024-02-21T13:29:06.359114Z",
          "iopub.status.busy": "2024-02-21T13:29:06.358160Z",
          "iopub.status.idle": "2024-02-21T13:29:19.450217Z",
          "shell.execute_reply": "2024-02-21T13:29:19.449195Z"
        },
        "papermill": {
          "duration": 13.106914,
          "end_time": "2024-02-21T13:29:19.452604",
          "exception": false,
          "start_time": "2024-02-21T13:29:06.345690",
          "status": "completed"
        },
        "tags": [],
        "id": "65dac56c"
      },
      "outputs": [],
      "source": [
        "# importing libraries\n",
        "import pandas as pd\n",
        "import numpy as np\n",
        "import matplotlib.pyplot as plt\n",
        "from sklearn.preprocessing import LabelEncoder\n",
        "from keras import Sequential\n",
        "from keras.layers import Embedding, Dense, LSTM\n",
        "from keras.preprocessing.text import one_hot\n",
        "from keras.utils import pad_sequences\n",
        "import nltk\n",
        "from nltk.stem.snowball import SnowballStemmer\n",
        "import regex as re\n",
        "from nltk.tokenize import sent_tokenize\n",
        "from sklearn.metrics import accuracy_score, confusion_matrix, classification_report\n",
        "from sklearn.model_selection import train_test_split\n",
        "import warnings\n",
        "warnings.filterwarnings('ignore')\n",
        "from nltk.corpus import stopwords\n"
      ]
    },
    {
      "cell_type": "code",
      "execution_count": 3,
      "id": "d29dc770",
      "metadata": {
        "_kg_hide-output": true,
        "execution": {
          "iopub.execute_input": "2024-02-21T13:29:19.477621Z",
          "iopub.status.busy": "2024-02-21T13:29:19.477056Z",
          "iopub.status.idle": "2024-02-21T13:29:19.633996Z",
          "shell.execute_reply": "2024-02-21T13:29:19.633095Z"
        },
        "papermill": {
          "duration": 0.171624,
          "end_time": "2024-02-21T13:29:19.636229",
          "exception": false,
          "start_time": "2024-02-21T13:29:19.464605",
          "status": "completed"
        },
        "tags": [],
        "colab": {
          "base_uri": "https://localhost:8080/"
        },
        "id": "d29dc770",
        "outputId": "47a90d64-00fc-47d0-96e8-5a51c3a7487f"
      },
      "outputs": [
        {
          "output_type": "stream",
          "name": "stderr",
          "text": [
            "[nltk_data] Downloading package stopwords to /root/nltk_data...\n",
            "[nltk_data]   Unzipping corpora/stopwords.zip.\n",
            "[nltk_data] Downloading package punkt to /root/nltk_data...\n",
            "[nltk_data]   Unzipping tokenizers/punkt.zip.\n",
            "[nltk_data] Downloading package wordnet to /root/nltk_data...\n"
          ]
        }
      ],
      "source": [
        "# download some packages\n",
        "nltk.download('stopwords')\n",
        "nltk.download('punkt')\n",
        "nltk.download('wordnet')\n",
        "\n",
        "stop_words = stopwords.words('english')"
      ]
    },
    {
      "cell_type": "code",
      "execution_count": 7,
      "id": "05c328ba",
      "metadata": {
        "execution": {
          "iopub.execute_input": "2024-02-21T13:29:19.660998Z",
          "iopub.status.busy": "2024-02-21T13:29:19.660673Z",
          "iopub.status.idle": "2024-02-21T13:29:21.995953Z",
          "shell.execute_reply": "2024-02-21T13:29:21.994957Z"
        },
        "papermill": {
          "duration": 2.350172,
          "end_time": "2024-02-21T13:29:21.998316",
          "exception": false,
          "start_time": "2024-02-21T13:29:19.648144",
          "status": "completed"
        },
        "tags": [],
        "id": "05c328ba"
      },
      "outputs": [],
      "source": [
        "# datasets\n",
        "df_fake = pd.read_csv(\"Fake.csv\")\n",
        "df_true = pd.read_csv(\"True.csv\")"
      ]
    },
    {
      "cell_type": "code",
      "execution_count": null,
      "id": "92a65088",
      "metadata": {
        "execution": {
          "iopub.execute_input": "2024-02-21T13:29:22.023498Z",
          "iopub.status.busy": "2024-02-21T13:29:22.023169Z",
          "iopub.status.idle": "2024-02-21T13:29:22.037931Z",
          "shell.execute_reply": "2024-02-21T13:29:22.037005Z"
        },
        "papermill": {
          "duration": 0.029527,
          "end_time": "2024-02-21T13:29:22.039873",
          "exception": false,
          "start_time": "2024-02-21T13:29:22.010346",
          "status": "completed"
        },
        "tags": [],
        "id": "92a65088",
        "outputId": "a0693176-cf0a-4306-b550-cd9400f24073"
      },
      "outputs": [
        {
          "data": {
            "text/html": [
              "<div>\n",
              "<style scoped>\n",
              "    .dataframe tbody tr th:only-of-type {\n",
              "        vertical-align: middle;\n",
              "    }\n",
              "\n",
              "    .dataframe tbody tr th {\n",
              "        vertical-align: top;\n",
              "    }\n",
              "\n",
              "    .dataframe thead th {\n",
              "        text-align: right;\n",
              "    }\n",
              "</style>\n",
              "<table border=\"1\" class=\"dataframe\">\n",
              "  <thead>\n",
              "    <tr style=\"text-align: right;\">\n",
              "      <th></th>\n",
              "      <th>title</th>\n",
              "      <th>text</th>\n",
              "      <th>subject</th>\n",
              "      <th>date</th>\n",
              "    </tr>\n",
              "  </thead>\n",
              "  <tbody>\n",
              "    <tr>\n",
              "      <th>0</th>\n",
              "      <td>As U.S. budget fight looms, Republicans flip t...</td>\n",
              "      <td>WASHINGTON (Reuters) - The head of a conservat...</td>\n",
              "      <td>politicsNews</td>\n",
              "      <td>December 31, 2017</td>\n",
              "    </tr>\n",
              "    <tr>\n",
              "      <th>1</th>\n",
              "      <td>U.S. military to accept transgender recruits o...</td>\n",
              "      <td>WASHINGTON (Reuters) - Transgender people will...</td>\n",
              "      <td>politicsNews</td>\n",
              "      <td>December 29, 2017</td>\n",
              "    </tr>\n",
              "    <tr>\n",
              "      <th>2</th>\n",
              "      <td>Senior U.S. Republican senator: 'Let Mr. Muell...</td>\n",
              "      <td>WASHINGTON (Reuters) - The special counsel inv...</td>\n",
              "      <td>politicsNews</td>\n",
              "      <td>December 31, 2017</td>\n",
              "    </tr>\n",
              "    <tr>\n",
              "      <th>3</th>\n",
              "      <td>FBI Russia probe helped by Australian diplomat...</td>\n",
              "      <td>WASHINGTON (Reuters) - Trump campaign adviser ...</td>\n",
              "      <td>politicsNews</td>\n",
              "      <td>December 30, 2017</td>\n",
              "    </tr>\n",
              "    <tr>\n",
              "      <th>4</th>\n",
              "      <td>Trump wants Postal Service to charge 'much mor...</td>\n",
              "      <td>SEATTLE/WASHINGTON (Reuters) - President Donal...</td>\n",
              "      <td>politicsNews</td>\n",
              "      <td>December 29, 2017</td>\n",
              "    </tr>\n",
              "  </tbody>\n",
              "</table>\n",
              "</div>"
            ],
            "text/plain": [
              "                                               title  \\\n",
              "0  As U.S. budget fight looms, Republicans flip t...   \n",
              "1  U.S. military to accept transgender recruits o...   \n",
              "2  Senior U.S. Republican senator: 'Let Mr. Muell...   \n",
              "3  FBI Russia probe helped by Australian diplomat...   \n",
              "4  Trump wants Postal Service to charge 'much mor...   \n",
              "\n",
              "                                                text       subject  \\\n",
              "0  WASHINGTON (Reuters) - The head of a conservat...  politicsNews   \n",
              "1  WASHINGTON (Reuters) - Transgender people will...  politicsNews   \n",
              "2  WASHINGTON (Reuters) - The special counsel inv...  politicsNews   \n",
              "3  WASHINGTON (Reuters) - Trump campaign adviser ...  politicsNews   \n",
              "4  SEATTLE/WASHINGTON (Reuters) - President Donal...  politicsNews   \n",
              "\n",
              "                 date  \n",
              "0  December 31, 2017   \n",
              "1  December 29, 2017   \n",
              "2  December 31, 2017   \n",
              "3  December 30, 2017   \n",
              "4  December 29, 2017   "
            ]
          },
          "execution_count": 5,
          "metadata": {},
          "output_type": "execute_result"
        }
      ],
      "source": [
        "df_true.head()"
      ]
    },
    {
      "cell_type": "code",
      "execution_count": 8,
      "id": "c693b038",
      "metadata": {
        "execution": {
          "iopub.execute_input": "2024-02-21T13:29:22.065293Z",
          "iopub.status.busy": "2024-02-21T13:29:22.064940Z",
          "iopub.status.idle": "2024-02-21T13:29:22.075636Z",
          "shell.execute_reply": "2024-02-21T13:29:22.074725Z"
        },
        "papermill": {
          "duration": 0.02612,
          "end_time": "2024-02-21T13:29:22.077954",
          "exception": false,
          "start_time": "2024-02-21T13:29:22.051834",
          "status": "completed"
        },
        "tags": [],
        "colab": {
          "base_uri": "https://localhost:8080/",
          "height": 293
        },
        "id": "c693b038",
        "outputId": "7f7b0e84-ce2d-4602-bf25-4193727df935"
      },
      "outputs": [
        {
          "output_type": "execute_result",
          "data": {
            "text/plain": [
              "                                               title  \\\n",
              "0   Donald Trump Sends Out Embarrassing New Year’...   \n",
              "1   Drunk Bragging Trump Staffer Started Russian ...   \n",
              "2   Sheriff David Clarke Becomes An Internet Joke...   \n",
              "3   Trump Is So Obsessed He Even Has Obama’s Name...   \n",
              "4   Pope Francis Just Called Out Donald Trump Dur...   \n",
              "\n",
              "                                                text subject  \\\n",
              "0  Donald Trump just couldn t wish all Americans ...    News   \n",
              "1  House Intelligence Committee Chairman Devin Nu...    News   \n",
              "2  On Friday, it was revealed that former Milwauk...    News   \n",
              "3  On Christmas day, Donald Trump announced that ...    News   \n",
              "4  Pope Francis used his annual Christmas Day mes...    News   \n",
              "\n",
              "                date  \n",
              "0  December 31, 2017  \n",
              "1  December 31, 2017  \n",
              "2  December 30, 2017  \n",
              "3  December 29, 2017  \n",
              "4  December 25, 2017  "
            ],
            "text/html": [
              "\n",
              "  <div id=\"df-a301b45c-62d6-41fb-ba1d-be79123ae3e3\" class=\"colab-df-container\">\n",
              "    <div>\n",
              "<style scoped>\n",
              "    .dataframe tbody tr th:only-of-type {\n",
              "        vertical-align: middle;\n",
              "    }\n",
              "\n",
              "    .dataframe tbody tr th {\n",
              "        vertical-align: top;\n",
              "    }\n",
              "\n",
              "    .dataframe thead th {\n",
              "        text-align: right;\n",
              "    }\n",
              "</style>\n",
              "<table border=\"1\" class=\"dataframe\">\n",
              "  <thead>\n",
              "    <tr style=\"text-align: right;\">\n",
              "      <th></th>\n",
              "      <th>title</th>\n",
              "      <th>text</th>\n",
              "      <th>subject</th>\n",
              "      <th>date</th>\n",
              "    </tr>\n",
              "  </thead>\n",
              "  <tbody>\n",
              "    <tr>\n",
              "      <th>0</th>\n",
              "      <td>Donald Trump Sends Out Embarrassing New Year’...</td>\n",
              "      <td>Donald Trump just couldn t wish all Americans ...</td>\n",
              "      <td>News</td>\n",
              "      <td>December 31, 2017</td>\n",
              "    </tr>\n",
              "    <tr>\n",
              "      <th>1</th>\n",
              "      <td>Drunk Bragging Trump Staffer Started Russian ...</td>\n",
              "      <td>House Intelligence Committee Chairman Devin Nu...</td>\n",
              "      <td>News</td>\n",
              "      <td>December 31, 2017</td>\n",
              "    </tr>\n",
              "    <tr>\n",
              "      <th>2</th>\n",
              "      <td>Sheriff David Clarke Becomes An Internet Joke...</td>\n",
              "      <td>On Friday, it was revealed that former Milwauk...</td>\n",
              "      <td>News</td>\n",
              "      <td>December 30, 2017</td>\n",
              "    </tr>\n",
              "    <tr>\n",
              "      <th>3</th>\n",
              "      <td>Trump Is So Obsessed He Even Has Obama’s Name...</td>\n",
              "      <td>On Christmas day, Donald Trump announced that ...</td>\n",
              "      <td>News</td>\n",
              "      <td>December 29, 2017</td>\n",
              "    </tr>\n",
              "    <tr>\n",
              "      <th>4</th>\n",
              "      <td>Pope Francis Just Called Out Donald Trump Dur...</td>\n",
              "      <td>Pope Francis used his annual Christmas Day mes...</td>\n",
              "      <td>News</td>\n",
              "      <td>December 25, 2017</td>\n",
              "    </tr>\n",
              "  </tbody>\n",
              "</table>\n",
              "</div>\n",
              "    <div class=\"colab-df-buttons\">\n",
              "\n",
              "  <div class=\"colab-df-container\">\n",
              "    <button class=\"colab-df-convert\" onclick=\"convertToInteractive('df-a301b45c-62d6-41fb-ba1d-be79123ae3e3')\"\n",
              "            title=\"Convert this dataframe to an interactive table.\"\n",
              "            style=\"display:none;\">\n",
              "\n",
              "  <svg xmlns=\"http://www.w3.org/2000/svg\" height=\"24px\" viewBox=\"0 -960 960 960\">\n",
              "    <path d=\"M120-120v-720h720v720H120Zm60-500h600v-160H180v160Zm220 220h160v-160H400v160Zm0 220h160v-160H400v160ZM180-400h160v-160H180v160Zm440 0h160v-160H620v160ZM180-180h160v-160H180v160Zm440 0h160v-160H620v160Z\"/>\n",
              "  </svg>\n",
              "    </button>\n",
              "\n",
              "  <style>\n",
              "    .colab-df-container {\n",
              "      display:flex;\n",
              "      gap: 12px;\n",
              "    }\n",
              "\n",
              "    .colab-df-convert {\n",
              "      background-color: #E8F0FE;\n",
              "      border: none;\n",
              "      border-radius: 50%;\n",
              "      cursor: pointer;\n",
              "      display: none;\n",
              "      fill: #1967D2;\n",
              "      height: 32px;\n",
              "      padding: 0 0 0 0;\n",
              "      width: 32px;\n",
              "    }\n",
              "\n",
              "    .colab-df-convert:hover {\n",
              "      background-color: #E2EBFA;\n",
              "      box-shadow: 0px 1px 2px rgba(60, 64, 67, 0.3), 0px 1px 3px 1px rgba(60, 64, 67, 0.15);\n",
              "      fill: #174EA6;\n",
              "    }\n",
              "\n",
              "    .colab-df-buttons div {\n",
              "      margin-bottom: 4px;\n",
              "    }\n",
              "\n",
              "    [theme=dark] .colab-df-convert {\n",
              "      background-color: #3B4455;\n",
              "      fill: #D2E3FC;\n",
              "    }\n",
              "\n",
              "    [theme=dark] .colab-df-convert:hover {\n",
              "      background-color: #434B5C;\n",
              "      box-shadow: 0px 1px 3px 1px rgba(0, 0, 0, 0.15);\n",
              "      filter: drop-shadow(0px 1px 2px rgba(0, 0, 0, 0.3));\n",
              "      fill: #FFFFFF;\n",
              "    }\n",
              "  </style>\n",
              "\n",
              "    <script>\n",
              "      const buttonEl =\n",
              "        document.querySelector('#df-a301b45c-62d6-41fb-ba1d-be79123ae3e3 button.colab-df-convert');\n",
              "      buttonEl.style.display =\n",
              "        google.colab.kernel.accessAllowed ? 'block' : 'none';\n",
              "\n",
              "      async function convertToInteractive(key) {\n",
              "        const element = document.querySelector('#df-a301b45c-62d6-41fb-ba1d-be79123ae3e3');\n",
              "        const dataTable =\n",
              "          await google.colab.kernel.invokeFunction('convertToInteractive',\n",
              "                                                    [key], {});\n",
              "        if (!dataTable) return;\n",
              "\n",
              "        const docLinkHtml = 'Like what you see? Visit the ' +\n",
              "          '<a target=\"_blank\" href=https://colab.research.google.com/notebooks/data_table.ipynb>data table notebook</a>'\n",
              "          + ' to learn more about interactive tables.';\n",
              "        element.innerHTML = '';\n",
              "        dataTable['output_type'] = 'display_data';\n",
              "        await google.colab.output.renderOutput(dataTable, element);\n",
              "        const docLink = document.createElement('div');\n",
              "        docLink.innerHTML = docLinkHtml;\n",
              "        element.appendChild(docLink);\n",
              "      }\n",
              "    </script>\n",
              "  </div>\n",
              "\n",
              "\n",
              "<div id=\"df-335e7201-52de-47be-af41-cad22cc5c02b\">\n",
              "  <button class=\"colab-df-quickchart\" onclick=\"quickchart('df-335e7201-52de-47be-af41-cad22cc5c02b')\"\n",
              "            title=\"Suggest charts\"\n",
              "            style=\"display:none;\">\n",
              "\n",
              "<svg xmlns=\"http://www.w3.org/2000/svg\" height=\"24px\"viewBox=\"0 0 24 24\"\n",
              "     width=\"24px\">\n",
              "    <g>\n",
              "        <path d=\"M19 3H5c-1.1 0-2 .9-2 2v14c0 1.1.9 2 2 2h14c1.1 0 2-.9 2-2V5c0-1.1-.9-2-2-2zM9 17H7v-7h2v7zm4 0h-2V7h2v10zm4 0h-2v-4h2v4z\"/>\n",
              "    </g>\n",
              "</svg>\n",
              "  </button>\n",
              "\n",
              "<style>\n",
              "  .colab-df-quickchart {\n",
              "      --bg-color: #E8F0FE;\n",
              "      --fill-color: #1967D2;\n",
              "      --hover-bg-color: #E2EBFA;\n",
              "      --hover-fill-color: #174EA6;\n",
              "      --disabled-fill-color: #AAA;\n",
              "      --disabled-bg-color: #DDD;\n",
              "  }\n",
              "\n",
              "  [theme=dark] .colab-df-quickchart {\n",
              "      --bg-color: #3B4455;\n",
              "      --fill-color: #D2E3FC;\n",
              "      --hover-bg-color: #434B5C;\n",
              "      --hover-fill-color: #FFFFFF;\n",
              "      --disabled-bg-color: #3B4455;\n",
              "      --disabled-fill-color: #666;\n",
              "  }\n",
              "\n",
              "  .colab-df-quickchart {\n",
              "    background-color: var(--bg-color);\n",
              "    border: none;\n",
              "    border-radius: 50%;\n",
              "    cursor: pointer;\n",
              "    display: none;\n",
              "    fill: var(--fill-color);\n",
              "    height: 32px;\n",
              "    padding: 0;\n",
              "    width: 32px;\n",
              "  }\n",
              "\n",
              "  .colab-df-quickchart:hover {\n",
              "    background-color: var(--hover-bg-color);\n",
              "    box-shadow: 0 1px 2px rgba(60, 64, 67, 0.3), 0 1px 3px 1px rgba(60, 64, 67, 0.15);\n",
              "    fill: var(--button-hover-fill-color);\n",
              "  }\n",
              "\n",
              "  .colab-df-quickchart-complete:disabled,\n",
              "  .colab-df-quickchart-complete:disabled:hover {\n",
              "    background-color: var(--disabled-bg-color);\n",
              "    fill: var(--disabled-fill-color);\n",
              "    box-shadow: none;\n",
              "  }\n",
              "\n",
              "  .colab-df-spinner {\n",
              "    border: 2px solid var(--fill-color);\n",
              "    border-color: transparent;\n",
              "    border-bottom-color: var(--fill-color);\n",
              "    animation:\n",
              "      spin 1s steps(1) infinite;\n",
              "  }\n",
              "\n",
              "  @keyframes spin {\n",
              "    0% {\n",
              "      border-color: transparent;\n",
              "      border-bottom-color: var(--fill-color);\n",
              "      border-left-color: var(--fill-color);\n",
              "    }\n",
              "    20% {\n",
              "      border-color: transparent;\n",
              "      border-left-color: var(--fill-color);\n",
              "      border-top-color: var(--fill-color);\n",
              "    }\n",
              "    30% {\n",
              "      border-color: transparent;\n",
              "      border-left-color: var(--fill-color);\n",
              "      border-top-color: var(--fill-color);\n",
              "      border-right-color: var(--fill-color);\n",
              "    }\n",
              "    40% {\n",
              "      border-color: transparent;\n",
              "      border-right-color: var(--fill-color);\n",
              "      border-top-color: var(--fill-color);\n",
              "    }\n",
              "    60% {\n",
              "      border-color: transparent;\n",
              "      border-right-color: var(--fill-color);\n",
              "    }\n",
              "    80% {\n",
              "      border-color: transparent;\n",
              "      border-right-color: var(--fill-color);\n",
              "      border-bottom-color: var(--fill-color);\n",
              "    }\n",
              "    90% {\n",
              "      border-color: transparent;\n",
              "      border-bottom-color: var(--fill-color);\n",
              "    }\n",
              "  }\n",
              "</style>\n",
              "\n",
              "  <script>\n",
              "    async function quickchart(key) {\n",
              "      const quickchartButtonEl =\n",
              "        document.querySelector('#' + key + ' button');\n",
              "      quickchartButtonEl.disabled = true;  // To prevent multiple clicks.\n",
              "      quickchartButtonEl.classList.add('colab-df-spinner');\n",
              "      try {\n",
              "        const charts = await google.colab.kernel.invokeFunction(\n",
              "            'suggestCharts', [key], {});\n",
              "      } catch (error) {\n",
              "        console.error('Error during call to suggestCharts:', error);\n",
              "      }\n",
              "      quickchartButtonEl.classList.remove('colab-df-spinner');\n",
              "      quickchartButtonEl.classList.add('colab-df-quickchart-complete');\n",
              "    }\n",
              "    (() => {\n",
              "      let quickchartButtonEl =\n",
              "        document.querySelector('#df-335e7201-52de-47be-af41-cad22cc5c02b button');\n",
              "      quickchartButtonEl.style.display =\n",
              "        google.colab.kernel.accessAllowed ? 'block' : 'none';\n",
              "    })();\n",
              "  </script>\n",
              "</div>\n",
              "\n",
              "    </div>\n",
              "  </div>\n"
            ],
            "application/vnd.google.colaboratory.intrinsic+json": {
              "type": "dataframe",
              "variable_name": "df_fake",
              "summary": "{\n  \"name\": \"df_fake\",\n  \"rows\": 23481,\n  \"fields\": [\n    {\n      \"column\": \"title\",\n      \"properties\": {\n        \"dtype\": \"string\",\n        \"num_unique_values\": 17903,\n        \"samples\": [\n          \" Fox News Mocked Into Oblivion After This F*cking STUPID Attempt To Make Steve Bannon Look Sane (TWEETS)\",\n          \"BREAKING: FL GOV RICK SCOTT Calls for FBI Director to Resign\",\n          \" WATCH: Mike Pence\\u2019s Photo Op With Puerto Rico Survivors Just Went TERRIBLY Wrong (VIDEO)\"\n        ],\n        \"semantic_type\": \"\",\n        \"description\": \"\"\n      }\n    },\n    {\n      \"column\": \"text\",\n      \"properties\": {\n        \"dtype\": \"string\",\n        \"num_unique_values\": 17455,\n        \"samples\": [\n          \"The moral decay continues The Kapiolani Medical Center for Women and Children at the University of Hawaii is currently recruiting pregnant girls and women to participate in second-trimester abortions to measure their bleeding during the operation, with and without antihemorrhagic drugs. According to the Clinical Trials website, run by the National Institutes of Health, participants must be at least 14 years old and 18-24 weeks pregnant.The controversial study, led by Bliss Kaneshiro, MD and Kate Whitehouse, DO, will monitor bleeding during D&E abortions to determine the effects of the drug oxytocin, commonly used to minimize blood loss and decrease the risk of hemorrhage.The clinical trial, called  Effects of Oxytocin on Bleeding Outcomes during Dilation and Evacuation  began in October 2014 and is a collaboration between UH, Society of Family Planning and the University of Washington.The Society of Family Planning funds a number of similar research projects, such as experimenting with the dosage of Misoprostol, a uterine contracting agent, prior to surgical abortions at 13-18 weeks and exploring umbilical cord injections to produce fetal death prior to late-term abortions.In the UH study, researchers will carry out a  randomized, double-blinded, placebo-controlled trials,  to determine the effect of oxytocin s use on uterine bleeding, meaning that they will either provide or deny intravenous oxytocin to the women.Reports suggest that some doctors are concerned that withholding oxytocin during surgery may put patients, especially teen girls, at risk. This study is reminiscent of Nazi concentration camp experiments. I pity the poor women who are being treated like lab rats, especially those who are denied the drug to reduce hemorrhaging,  said Troy Newman, President of Operation Rescue.Dilation and evacuation abortions are surgical procedures that involve dismembering the pre-born baby with forceps, scraping the inside of the uterus with a curette to remove any residuals and finally suctioning out the womb to make sure the contents are completely removed.After the abortion, the corpse of the fetus is reassembled and examined to ensure everything was successfully removed and that the abortion was complete.The study is hoping to attract up to 166 test subjects and is expected to conclude in July 2015.Via: Breitbart News\",\n          \"CNN was quick to scoop up Corey Lewandowski after Donald Trump kicked him out of his role as campaign manager, but his first week on the job is going pretty much exactly how you would expect it to go   terribly.Not only has Lewandowski proven himself to be pretty much like a paid spokesman for Trump, but his defense of the disgraced GOP candidate isn t being received well. Earlier this week, Lewandowski revealed that he was under contract and couldn t criticize The Donald, even after being fired from the campaign. Today, Lewandowski got called out by Hillary Clinton surrogate Christine Quinn for hyping Trump up to be an expert on the Brexit decision   a suggestion that was clearly false.On Monday s edition of CNN s New Day, Lewandowski made another pathetic defense of Trump by trying to reframe the candidate s disgusting reaction to Brexit, where he mostly spoke about how much the decision would be good for his Scotland golf resort. Lewandowski s defense was: Obviously the U.S. dollar has become much stronger now against the British pound. If you re going to spend money in Europe, now would actually be a good time to go with the fall of the pound.What you have is a world view, so what you have is someone who is saying,  Let s look at this from the U.S. perspective. If you want to go and travel overseas   just from a monetary perspective   now is the right time to do that because what you re getting is more for your dollar. Quinn wasn t having it. She ripped into Lewandowski, firing back, Donald Trump is not running to be travel agent of the world, he s running to be president of the United States.  She continued: What he said wasn t a commentary on international markets, it was,  When the pound goes down, more people will come to my golf course. Donald Trump s main concern isn t the international markets, it isn t the impact that Brexit will have on hard working Americans  401Ks, it s himself. How can he make more money, how can he put more money in his bank account? Lewandowski compared the Brexit decision to Trump s rise in the GOP, and Quinn once again called him out and put him back in his place. She said: Trump touted that he saw this coming. That s ridiculous because when he was first asked about Brexit by the press, he didn t appear to know what it was. Lewandowski tried to counter by insisting that People are too smart, they are tired of being told what to do.  He then tried to commend Trump for being a selfish moron: You know what Donald Trump said about Brexit? What he said was, you don t have to listen to me because it s not my decision. He didn t weigh in like Hillary Clinton did, like Barack Obama did, saying that you can t do this. Quinn fought back, Because he didn t know what it was. Lewandowski was fighting a losing battle. Trump s reaction to Brexit was just as terrifying as it was humorous   it truly proved that Trump knows nothing about foreign affairs, and hasn t spent any time educating himself since the beginning of his presidential candidacy. If only some of the hours he spent getting into fights on Twitter were being used for learning about how the world works. But instead, he once again exposed himself as an unfit choice for President. And when people like Lewandowski try to make sense of his idiocy, they only make themselves look equally foolish.You can watch the embarrassing video below:Featured image via screen capture\",\n          \"A Michigan woman decided to defend against tyranny? when she and another shopper couldn t agree over who got to buy the last notebook on the shelf at the Novi Towne Center store.According to ABC 13, the brawl   yes, brawl    involved two Farmington Hills residents, ages 46 and 32, and a mother and daughter from South Lyon, ages 51 and 20. In other words, these were all grown adults who should have known better but hey   there was only one notebook on the shelf, and we ve all seen what happens in those post-apocalyptic movies when a store is down to the last gallon of milk, right?Two of the women, one of whom was the unnamed 20-year-old, reached for the notebook at the same time. The 46 and 32-year-olds apparently decided that she wasn t getting their goddamn notebook and began pulling her hair.Then, because this had almost hit peak  trailer park,  the 20-year-old s mother decided to go for bonus points by pulling out her gun. Fortunately, someone pushed her aside before she could do any harm.This is one of the NRA s  responsible gun owners  (conservatives can t dismiss this one, as it is confirmed that she is a concealed carry permit holder)   ready to leap into action at the most minor sign of danger and make things worse by turning the situation potentially deadly.Watch it happen below:Featured image via screengrab\"\n        ],\n        \"semantic_type\": \"\",\n        \"description\": \"\"\n      }\n    },\n    {\n      \"column\": \"subject\",\n      \"properties\": {\n        \"dtype\": \"category\",\n        \"num_unique_values\": 6,\n        \"samples\": [\n          \"News\",\n          \"politics\",\n          \"Middle-east\"\n        ],\n        \"semantic_type\": \"\",\n        \"description\": \"\"\n      }\n    },\n    {\n      \"column\": \"date\",\n      \"properties\": {\n        \"dtype\": \"category\",\n        \"num_unique_values\": 1681,\n        \"samples\": [\n          \"Jun 5, 2015\",\n          \"August 28, 2016\",\n          \"June 3, 2017\"\n        ],\n        \"semantic_type\": \"\",\n        \"description\": \"\"\n      }\n    }\n  ]\n}"
            }
          },
          "metadata": {},
          "execution_count": 8
        }
      ],
      "source": [
        "df_fake.head()"
      ]
    },
    {
      "cell_type": "code",
      "execution_count": 9,
      "id": "e5d5bc24",
      "metadata": {
        "execution": {
          "iopub.execute_input": "2024-02-21T13:29:22.105374Z",
          "iopub.status.busy": "2024-02-21T13:29:22.104563Z",
          "iopub.status.idle": "2024-02-21T13:29:22.111666Z",
          "shell.execute_reply": "2024-02-21T13:29:22.110781Z"
        },
        "papermill": {
          "duration": 0.022593,
          "end_time": "2024-02-21T13:29:22.113738",
          "exception": false,
          "start_time": "2024-02-21T13:29:22.091145",
          "status": "completed"
        },
        "tags": [],
        "id": "e5d5bc24"
      },
      "outputs": [],
      "source": [
        "# label them seperately\n",
        "df_true['status'] = 0\n",
        "df_fake['status'] = 1"
      ]
    },
    {
      "cell_type": "code",
      "execution_count": 10,
      "id": "c1cd80b0",
      "metadata": {
        "execution": {
          "iopub.execute_input": "2024-02-21T13:29:22.140495Z",
          "iopub.status.busy": "2024-02-21T13:29:22.139868Z",
          "iopub.status.idle": "2024-02-21T13:29:22.157384Z",
          "shell.execute_reply": "2024-02-21T13:29:22.156359Z"
        },
        "papermill": {
          "duration": 0.033165,
          "end_time": "2024-02-21T13:29:22.159514",
          "exception": false,
          "start_time": "2024-02-21T13:29:22.126349",
          "status": "completed"
        },
        "tags": [],
        "id": "c1cd80b0"
      },
      "outputs": [],
      "source": [
        "# merge and remove unnecessary columns\n",
        "df = pd.concat([df_true,df_fake])\n",
        "df.drop(['subject','text','date'],axis=1,inplace=True)"
      ]
    },
    {
      "cell_type": "markdown",
      "id": "e8dfe2a3",
      "metadata": {
        "papermill": {
          "duration": 0.011999,
          "end_time": "2024-02-21T13:29:22.184230",
          "exception": false,
          "start_time": "2024-02-21T13:29:22.172231",
          "status": "completed"
        },
        "tags": [],
        "id": "e8dfe2a3"
      },
      "source": [
        "* Since we are going to build model only based on the title feature, hence dropped text, date , subject"
      ]
    },
    {
      "cell_type": "code",
      "execution_count": 11,
      "id": "86ec5122",
      "metadata": {
        "execution": {
          "iopub.execute_input": "2024-02-21T13:29:22.209863Z",
          "iopub.status.busy": "2024-02-21T13:29:22.209517Z",
          "iopub.status.idle": "2024-02-21T13:29:22.221317Z",
          "shell.execute_reply": "2024-02-21T13:29:22.220563Z"
        },
        "papermill": {
          "duration": 0.027252,
          "end_time": "2024-02-21T13:29:22.223571",
          "exception": false,
          "start_time": "2024-02-21T13:29:22.196319",
          "status": "completed"
        },
        "tags": [],
        "id": "86ec5122"
      },
      "outputs": [],
      "source": [
        "# let's blend the smoothie\n",
        "random_indexes = np.random.randint(0,len(df),len(df))\n",
        "df = df.iloc[random_indexes].reset_index(drop=True)"
      ]
    },
    {
      "cell_type": "markdown",
      "id": "bdfae1c7",
      "metadata": {
        "papermill": {
          "duration": 0.011924,
          "end_time": "2024-02-21T13:29:22.248536",
          "exception": false,
          "start_time": "2024-02-21T13:29:22.236612",
          "status": "completed"
        },
        "tags": [],
        "id": "bdfae1c7"
      },
      "source": [
        "## Text analysis"
      ]
    },
    {
      "cell_type": "code",
      "execution_count": 12,
      "id": "a2a5b6b3",
      "metadata": {
        "execution": {
          "iopub.execute_input": "2024-02-21T13:29:22.274185Z",
          "iopub.status.busy": "2024-02-21T13:29:22.273627Z",
          "iopub.status.idle": "2024-02-21T13:29:22.285706Z",
          "shell.execute_reply": "2024-02-21T13:29:22.284725Z"
        },
        "papermill": {
          "duration": 0.027495,
          "end_time": "2024-02-21T13:29:22.288015",
          "exception": false,
          "start_time": "2024-02-21T13:29:22.260520",
          "status": "completed"
        },
        "tags": [],
        "colab": {
          "base_uri": "https://localhost:8080/",
          "height": 694
        },
        "id": "a2a5b6b3",
        "outputId": "e4d289c6-2050-4a59-dfc5-a030f00994ca"
      },
      "outputs": [
        {
          "output_type": "execute_result",
          "data": {
            "text/plain": [
              "                                                                                                                               title  \\\n",
              "10755                                                                 WOW! “N” Word Used On Walmart Website To Describe Color Of Wig   \n",
              "42221                        OVER 100 COLLEGES WILL HOLD SEPARATE GRADUATION Ceremonies For Gays As Part Of A “Cultural Celebration”   \n",
              "25804                                                                U.S. Embassy move can be done in 'two minutes': Jerusalem mayor   \n",
              "10192                                                                        U.S sanctions North Koreans for 'flagrant' rights abuse   \n",
              "6594                                                               Venezuela slams Canada sanctions, says Ottawa submitting to Trump   \n",
              "14464                                                                 Queen to invite Trump to Britain for state visit: Sunday Times   \n",
              "16171                                              WHY IS THE PRESENCE OF RUSSIAN AIRCRAFT FIGHTER JETS NEAR U.S. SHORES INCREASING?   \n",
              "37936                                                          Senator McCaskill drafts bill in response to Allergan patent maneuver   \n",
              "7040                                                          Woman Raped By Trump At 13 May Have Been Terrorized Into Dropping Suit   \n",
              "2589                                                                               Family’s Dog Poisoned By Flint’s Toxic Lead Water   \n",
              "22131                                      WATCH: Anderson Cooper Leaves Trump Supporter DUMBFOUNDED For Hypocrisy On Sexual Assault   \n",
              "6202                                                                     CIA Claims of Russian Intervention in US Election Fall Flat   \n",
              "19573  CAN YOU HEAR HIM NOW? President Trump Doubles Down: Condemns ‘Evil’ KKK, White Supremacists, Neo-Nazis [Video and Transcript]   \n",
              "9354                                                        REVEALED: How US Government-Media Complex Are The Masters of ‘Fake News’   \n",
              "39000                                                     Trump discusses concern over Qatar dispute with Gulf, Arab states in calls   \n",
              "952                                                  Stephen King Makes Trump His Newest Horror Story And His Fans Respond PERFECTLY   \n",
              "462                                                             U.S. Senate Intelligence committee wants more information from Comey   \n",
              "19651                              Mexico’s Ex-President Mercilessly Trolls Trump For His ‘I’ll Bring Our Jobs Back’ Mantra (TWEETS)   \n",
              "13759                                                                      Twitter Just Apologized For Making Donald Trump President   \n",
              "42979                                                                 Trump to hold town hall meeting with about 50 business leaders   \n",
              "\n",
              "       status  \n",
              "10755       1  \n",
              "42221       1  \n",
              "25804       0  \n",
              "10192       0  \n",
              "6594        0  \n",
              "14464       0  \n",
              "16171       1  \n",
              "37936       0  \n",
              "7040        1  \n",
              "2589        1  \n",
              "22131       1  \n",
              "6202        1  \n",
              "19573       1  \n",
              "9354        1  \n",
              "39000       0  \n",
              "952         1  \n",
              "462         0  \n",
              "19651       1  \n",
              "13759       1  \n",
              "42979       0  "
            ],
            "text/html": [
              "\n",
              "  <div id=\"df-83e56bdc-a8f5-4008-b2ce-60b539a642de\" class=\"colab-df-container\">\n",
              "    <div>\n",
              "<style scoped>\n",
              "    .dataframe tbody tr th:only-of-type {\n",
              "        vertical-align: middle;\n",
              "    }\n",
              "\n",
              "    .dataframe tbody tr th {\n",
              "        vertical-align: top;\n",
              "    }\n",
              "\n",
              "    .dataframe thead th {\n",
              "        text-align: right;\n",
              "    }\n",
              "</style>\n",
              "<table border=\"1\" class=\"dataframe\">\n",
              "  <thead>\n",
              "    <tr style=\"text-align: right;\">\n",
              "      <th></th>\n",
              "      <th>title</th>\n",
              "      <th>status</th>\n",
              "    </tr>\n",
              "  </thead>\n",
              "  <tbody>\n",
              "    <tr>\n",
              "      <th>10755</th>\n",
              "      <td>WOW! “N” Word Used On Walmart Website To Describe Color Of Wig</td>\n",
              "      <td>1</td>\n",
              "    </tr>\n",
              "    <tr>\n",
              "      <th>42221</th>\n",
              "      <td>OVER 100 COLLEGES WILL HOLD SEPARATE GRADUATION Ceremonies For Gays As Part Of A “Cultural Celebration”</td>\n",
              "      <td>1</td>\n",
              "    </tr>\n",
              "    <tr>\n",
              "      <th>25804</th>\n",
              "      <td>U.S. Embassy move can be done in 'two minutes': Jerusalem mayor</td>\n",
              "      <td>0</td>\n",
              "    </tr>\n",
              "    <tr>\n",
              "      <th>10192</th>\n",
              "      <td>U.S sanctions North Koreans for 'flagrant' rights abuse</td>\n",
              "      <td>0</td>\n",
              "    </tr>\n",
              "    <tr>\n",
              "      <th>6594</th>\n",
              "      <td>Venezuela slams Canada sanctions, says Ottawa submitting to Trump</td>\n",
              "      <td>0</td>\n",
              "    </tr>\n",
              "    <tr>\n",
              "      <th>14464</th>\n",
              "      <td>Queen to invite Trump to Britain for state visit: Sunday Times</td>\n",
              "      <td>0</td>\n",
              "    </tr>\n",
              "    <tr>\n",
              "      <th>16171</th>\n",
              "      <td>WHY IS THE PRESENCE OF RUSSIAN AIRCRAFT FIGHTER JETS NEAR U.S. SHORES INCREASING?</td>\n",
              "      <td>1</td>\n",
              "    </tr>\n",
              "    <tr>\n",
              "      <th>37936</th>\n",
              "      <td>Senator McCaskill drafts bill in response to Allergan patent maneuver</td>\n",
              "      <td>0</td>\n",
              "    </tr>\n",
              "    <tr>\n",
              "      <th>7040</th>\n",
              "      <td>Woman Raped By Trump At 13 May Have Been Terrorized Into Dropping Suit</td>\n",
              "      <td>1</td>\n",
              "    </tr>\n",
              "    <tr>\n",
              "      <th>2589</th>\n",
              "      <td>Family’s Dog Poisoned By Flint’s Toxic Lead Water</td>\n",
              "      <td>1</td>\n",
              "    </tr>\n",
              "    <tr>\n",
              "      <th>22131</th>\n",
              "      <td>WATCH: Anderson Cooper Leaves Trump Supporter DUMBFOUNDED For Hypocrisy On Sexual Assault</td>\n",
              "      <td>1</td>\n",
              "    </tr>\n",
              "    <tr>\n",
              "      <th>6202</th>\n",
              "      <td>CIA Claims of Russian Intervention in US Election Fall Flat</td>\n",
              "      <td>1</td>\n",
              "    </tr>\n",
              "    <tr>\n",
              "      <th>19573</th>\n",
              "      <td>CAN YOU HEAR HIM NOW? President Trump Doubles Down: Condemns ‘Evil’ KKK, White Supremacists, Neo-Nazis [Video and Transcript]</td>\n",
              "      <td>1</td>\n",
              "    </tr>\n",
              "    <tr>\n",
              "      <th>9354</th>\n",
              "      <td>REVEALED: How US Government-Media Complex Are The Masters of ‘Fake News’</td>\n",
              "      <td>1</td>\n",
              "    </tr>\n",
              "    <tr>\n",
              "      <th>39000</th>\n",
              "      <td>Trump discusses concern over Qatar dispute with Gulf, Arab states in calls</td>\n",
              "      <td>0</td>\n",
              "    </tr>\n",
              "    <tr>\n",
              "      <th>952</th>\n",
              "      <td>Stephen King Makes Trump His Newest Horror Story And His Fans Respond PERFECTLY</td>\n",
              "      <td>1</td>\n",
              "    </tr>\n",
              "    <tr>\n",
              "      <th>462</th>\n",
              "      <td>U.S. Senate Intelligence committee wants more information from Comey</td>\n",
              "      <td>0</td>\n",
              "    </tr>\n",
              "    <tr>\n",
              "      <th>19651</th>\n",
              "      <td>Mexico’s Ex-President Mercilessly Trolls Trump For His ‘I’ll Bring Our Jobs Back’ Mantra (TWEETS)</td>\n",
              "      <td>1</td>\n",
              "    </tr>\n",
              "    <tr>\n",
              "      <th>13759</th>\n",
              "      <td>Twitter Just Apologized For Making Donald Trump President</td>\n",
              "      <td>1</td>\n",
              "    </tr>\n",
              "    <tr>\n",
              "      <th>42979</th>\n",
              "      <td>Trump to hold town hall meeting with about 50 business leaders</td>\n",
              "      <td>0</td>\n",
              "    </tr>\n",
              "  </tbody>\n",
              "</table>\n",
              "</div>\n",
              "    <div class=\"colab-df-buttons\">\n",
              "\n",
              "  <div class=\"colab-df-container\">\n",
              "    <button class=\"colab-df-convert\" onclick=\"convertToInteractive('df-83e56bdc-a8f5-4008-b2ce-60b539a642de')\"\n",
              "            title=\"Convert this dataframe to an interactive table.\"\n",
              "            style=\"display:none;\">\n",
              "\n",
              "  <svg xmlns=\"http://www.w3.org/2000/svg\" height=\"24px\" viewBox=\"0 -960 960 960\">\n",
              "    <path d=\"M120-120v-720h720v720H120Zm60-500h600v-160H180v160Zm220 220h160v-160H400v160Zm0 220h160v-160H400v160ZM180-400h160v-160H180v160Zm440 0h160v-160H620v160ZM180-180h160v-160H180v160Zm440 0h160v-160H620v160Z\"/>\n",
              "  </svg>\n",
              "    </button>\n",
              "\n",
              "  <style>\n",
              "    .colab-df-container {\n",
              "      display:flex;\n",
              "      gap: 12px;\n",
              "    }\n",
              "\n",
              "    .colab-df-convert {\n",
              "      background-color: #E8F0FE;\n",
              "      border: none;\n",
              "      border-radius: 50%;\n",
              "      cursor: pointer;\n",
              "      display: none;\n",
              "      fill: #1967D2;\n",
              "      height: 32px;\n",
              "      padding: 0 0 0 0;\n",
              "      width: 32px;\n",
              "    }\n",
              "\n",
              "    .colab-df-convert:hover {\n",
              "      background-color: #E2EBFA;\n",
              "      box-shadow: 0px 1px 2px rgba(60, 64, 67, 0.3), 0px 1px 3px 1px rgba(60, 64, 67, 0.15);\n",
              "      fill: #174EA6;\n",
              "    }\n",
              "\n",
              "    .colab-df-buttons div {\n",
              "      margin-bottom: 4px;\n",
              "    }\n",
              "\n",
              "    [theme=dark] .colab-df-convert {\n",
              "      background-color: #3B4455;\n",
              "      fill: #D2E3FC;\n",
              "    }\n",
              "\n",
              "    [theme=dark] .colab-df-convert:hover {\n",
              "      background-color: #434B5C;\n",
              "      box-shadow: 0px 1px 3px 1px rgba(0, 0, 0, 0.15);\n",
              "      filter: drop-shadow(0px 1px 2px rgba(0, 0, 0, 0.3));\n",
              "      fill: #FFFFFF;\n",
              "    }\n",
              "  </style>\n",
              "\n",
              "    <script>\n",
              "      const buttonEl =\n",
              "        document.querySelector('#df-83e56bdc-a8f5-4008-b2ce-60b539a642de button.colab-df-convert');\n",
              "      buttonEl.style.display =\n",
              "        google.colab.kernel.accessAllowed ? 'block' : 'none';\n",
              "\n",
              "      async function convertToInteractive(key) {\n",
              "        const element = document.querySelector('#df-83e56bdc-a8f5-4008-b2ce-60b539a642de');\n",
              "        const dataTable =\n",
              "          await google.colab.kernel.invokeFunction('convertToInteractive',\n",
              "                                                    [key], {});\n",
              "        if (!dataTable) return;\n",
              "\n",
              "        const docLinkHtml = 'Like what you see? Visit the ' +\n",
              "          '<a target=\"_blank\" href=https://colab.research.google.com/notebooks/data_table.ipynb>data table notebook</a>'\n",
              "          + ' to learn more about interactive tables.';\n",
              "        element.innerHTML = '';\n",
              "        dataTable['output_type'] = 'display_data';\n",
              "        await google.colab.output.renderOutput(dataTable, element);\n",
              "        const docLink = document.createElement('div');\n",
              "        docLink.innerHTML = docLinkHtml;\n",
              "        element.appendChild(docLink);\n",
              "      }\n",
              "    </script>\n",
              "  </div>\n",
              "\n",
              "\n",
              "<div id=\"df-e331de5e-0f7c-47ed-9880-e893c4f6df5a\">\n",
              "  <button class=\"colab-df-quickchart\" onclick=\"quickchart('df-e331de5e-0f7c-47ed-9880-e893c4f6df5a')\"\n",
              "            title=\"Suggest charts\"\n",
              "            style=\"display:none;\">\n",
              "\n",
              "<svg xmlns=\"http://www.w3.org/2000/svg\" height=\"24px\"viewBox=\"0 0 24 24\"\n",
              "     width=\"24px\">\n",
              "    <g>\n",
              "        <path d=\"M19 3H5c-1.1 0-2 .9-2 2v14c0 1.1.9 2 2 2h14c1.1 0 2-.9 2-2V5c0-1.1-.9-2-2-2zM9 17H7v-7h2v7zm4 0h-2V7h2v10zm4 0h-2v-4h2v4z\"/>\n",
              "    </g>\n",
              "</svg>\n",
              "  </button>\n",
              "\n",
              "<style>\n",
              "  .colab-df-quickchart {\n",
              "      --bg-color: #E8F0FE;\n",
              "      --fill-color: #1967D2;\n",
              "      --hover-bg-color: #E2EBFA;\n",
              "      --hover-fill-color: #174EA6;\n",
              "      --disabled-fill-color: #AAA;\n",
              "      --disabled-bg-color: #DDD;\n",
              "  }\n",
              "\n",
              "  [theme=dark] .colab-df-quickchart {\n",
              "      --bg-color: #3B4455;\n",
              "      --fill-color: #D2E3FC;\n",
              "      --hover-bg-color: #434B5C;\n",
              "      --hover-fill-color: #FFFFFF;\n",
              "      --disabled-bg-color: #3B4455;\n",
              "      --disabled-fill-color: #666;\n",
              "  }\n",
              "\n",
              "  .colab-df-quickchart {\n",
              "    background-color: var(--bg-color);\n",
              "    border: none;\n",
              "    border-radius: 50%;\n",
              "    cursor: pointer;\n",
              "    display: none;\n",
              "    fill: var(--fill-color);\n",
              "    height: 32px;\n",
              "    padding: 0;\n",
              "    width: 32px;\n",
              "  }\n",
              "\n",
              "  .colab-df-quickchart:hover {\n",
              "    background-color: var(--hover-bg-color);\n",
              "    box-shadow: 0 1px 2px rgba(60, 64, 67, 0.3), 0 1px 3px 1px rgba(60, 64, 67, 0.15);\n",
              "    fill: var(--button-hover-fill-color);\n",
              "  }\n",
              "\n",
              "  .colab-df-quickchart-complete:disabled,\n",
              "  .colab-df-quickchart-complete:disabled:hover {\n",
              "    background-color: var(--disabled-bg-color);\n",
              "    fill: var(--disabled-fill-color);\n",
              "    box-shadow: none;\n",
              "  }\n",
              "\n",
              "  .colab-df-spinner {\n",
              "    border: 2px solid var(--fill-color);\n",
              "    border-color: transparent;\n",
              "    border-bottom-color: var(--fill-color);\n",
              "    animation:\n",
              "      spin 1s steps(1) infinite;\n",
              "  }\n",
              "\n",
              "  @keyframes spin {\n",
              "    0% {\n",
              "      border-color: transparent;\n",
              "      border-bottom-color: var(--fill-color);\n",
              "      border-left-color: var(--fill-color);\n",
              "    }\n",
              "    20% {\n",
              "      border-color: transparent;\n",
              "      border-left-color: var(--fill-color);\n",
              "      border-top-color: var(--fill-color);\n",
              "    }\n",
              "    30% {\n",
              "      border-color: transparent;\n",
              "      border-left-color: var(--fill-color);\n",
              "      border-top-color: var(--fill-color);\n",
              "      border-right-color: var(--fill-color);\n",
              "    }\n",
              "    40% {\n",
              "      border-color: transparent;\n",
              "      border-right-color: var(--fill-color);\n",
              "      border-top-color: var(--fill-color);\n",
              "    }\n",
              "    60% {\n",
              "      border-color: transparent;\n",
              "      border-right-color: var(--fill-color);\n",
              "    }\n",
              "    80% {\n",
              "      border-color: transparent;\n",
              "      border-right-color: var(--fill-color);\n",
              "      border-bottom-color: var(--fill-color);\n",
              "    }\n",
              "    90% {\n",
              "      border-color: transparent;\n",
              "      border-bottom-color: var(--fill-color);\n",
              "    }\n",
              "  }\n",
              "</style>\n",
              "\n",
              "  <script>\n",
              "    async function quickchart(key) {\n",
              "      const quickchartButtonEl =\n",
              "        document.querySelector('#' + key + ' button');\n",
              "      quickchartButtonEl.disabled = true;  // To prevent multiple clicks.\n",
              "      quickchartButtonEl.classList.add('colab-df-spinner');\n",
              "      try {\n",
              "        const charts = await google.colab.kernel.invokeFunction(\n",
              "            'suggestCharts', [key], {});\n",
              "      } catch (error) {\n",
              "        console.error('Error during call to suggestCharts:', error);\n",
              "      }\n",
              "      quickchartButtonEl.classList.remove('colab-df-spinner');\n",
              "      quickchartButtonEl.classList.add('colab-df-quickchart-complete');\n",
              "    }\n",
              "    (() => {\n",
              "      let quickchartButtonEl =\n",
              "        document.querySelector('#df-e331de5e-0f7c-47ed-9880-e893c4f6df5a button');\n",
              "      quickchartButtonEl.style.display =\n",
              "        google.colab.kernel.accessAllowed ? 'block' : 'none';\n",
              "    })();\n",
              "  </script>\n",
              "</div>\n",
              "\n",
              "    </div>\n",
              "  </div>\n"
            ],
            "application/vnd.google.colaboratory.intrinsic+json": {
              "type": "dataframe",
              "summary": "{\n  \"name\": \"df\",\n  \"rows\": 20,\n  \"fields\": [\n    {\n      \"column\": \"title\",\n      \"properties\": {\n        \"dtype\": \"string\",\n        \"num_unique_values\": 20,\n        \"samples\": [\n          \"WOW! \\u201cN\\u201d Word Used On Walmart Website To Describe Color Of Wig\",\n          \" Mexico\\u2019s Ex-President Mercilessly Trolls Trump For His \\u2018I\\u2019ll Bring Our Jobs Back\\u2019 Mantra (TWEETS)\",\n          \" Stephen King Makes Trump His Newest Horror Story And His Fans Respond PERFECTLY\"\n        ],\n        \"semantic_type\": \"\",\n        \"description\": \"\"\n      }\n    },\n    {\n      \"column\": \"status\",\n      \"properties\": {\n        \"dtype\": \"number\",\n        \"std\": 0,\n        \"min\": 0,\n        \"max\": 1,\n        \"num_unique_values\": 2,\n        \"samples\": [\n          0,\n          1\n        ],\n        \"semantic_type\": \"\",\n        \"description\": \"\"\n      }\n    }\n  ]\n}"
            }
          },
          "metadata": {},
          "execution_count": 12
        }
      ],
      "source": [
        "pd.set_option('display.max_colwidth', 500)\n",
        "random = np.random.randint(0,len(df),20)\n",
        "df.iloc[random]"
      ]
    },
    {
      "cell_type": "markdown",
      "id": "677c7385",
      "metadata": {
        "papermill": {
          "duration": 0.012395,
          "end_time": "2024-02-21T13:29:22.313265",
          "exception": false,
          "start_time": "2024-02-21T13:29:22.300870",
          "status": "completed"
        },
        "tags": [],
        "id": "677c7385"
      },
      "source": [
        "* work needs to be done on data before feeding to neural network-\n",
        "1. Remove punctuations eg \"\"\n",
        "2. Convert uppercase to lowercase\n",
        "3. No need to apply stemming, otherwise it will just shorten the word unnecessary\n",
        "4. Apply lemmatization\n",
        "5. Remove all the stopwords\n",
        "6. Finally make vocabulary after completion of 5 steps"
      ]
    },
    {
      "cell_type": "code",
      "execution_count": 13,
      "id": "9457c505",
      "metadata": {
        "execution": {
          "iopub.execute_input": "2024-02-21T13:29:22.340134Z",
          "iopub.status.busy": "2024-02-21T13:29:22.339436Z",
          "iopub.status.idle": "2024-02-21T13:29:22.353007Z",
          "shell.execute_reply": "2024-02-21T13:29:22.352156Z"
        },
        "papermill": {
          "duration": 0.029074,
          "end_time": "2024-02-21T13:29:22.354891",
          "exception": false,
          "start_time": "2024-02-21T13:29:22.325817",
          "status": "completed"
        },
        "tags": [],
        "colab": {
          "base_uri": "https://localhost:8080/"
        },
        "id": "9457c505",
        "outputId": "edcff191-eb7e-4deb-b2ef-29a45bb6de0a"
      },
      "outputs": [
        {
          "output_type": "execute_result",
          "data": {
            "text/plain": [
              "title     0\n",
              "status    0\n",
              "dtype: int64"
            ]
          },
          "metadata": {},
          "execution_count": 13
        }
      ],
      "source": [
        "# Null values\n",
        "df.isnull().sum()"
      ]
    },
    {
      "cell_type": "code",
      "execution_count": 14,
      "id": "39c78c64",
      "metadata": {
        "execution": {
          "iopub.execute_input": "2024-02-21T13:29:22.381703Z",
          "iopub.status.busy": "2024-02-21T13:29:22.381163Z",
          "iopub.status.idle": "2024-02-21T13:29:22.473553Z",
          "shell.execute_reply": "2024-02-21T13:29:22.472612Z"
        },
        "papermill": {
          "duration": 0.107835,
          "end_time": "2024-02-21T13:29:22.475443",
          "exception": false,
          "start_time": "2024-02-21T13:29:22.367608",
          "status": "completed"
        },
        "tags": [],
        "colab": {
          "base_uri": "https://localhost:8080/"
        },
        "id": "39c78c64",
        "outputId": "3268e340-d89e-46ca-c1a0-e4dc8b84a7ad"
      },
      "outputs": [
        {
          "output_type": "stream",
          "name": "stdout",
          "text": [
            "longest sentence having length -\n",
            "41\n"
          ]
        }
      ],
      "source": [
        "# longest sentence length\n",
        "def longest_sentence_length(text):\n",
        "  return len(text.split())\n",
        "\n",
        "df['maximum_length'] = df['title'].apply(lambda x : longest_sentence_length(x))\n",
        "print('longest sentence having length -')\n",
        "max_length = max(df['maximum_length'].values)\n",
        "print(max_length)"
      ]
    },
    {
      "cell_type": "code",
      "execution_count": 15,
      "id": "19435a86",
      "metadata": {
        "execution": {
          "iopub.execute_input": "2024-02-21T13:29:22.502428Z",
          "iopub.status.busy": "2024-02-21T13:29:22.502108Z",
          "iopub.status.idle": "2024-02-21T13:29:22.508028Z",
          "shell.execute_reply": "2024-02-21T13:29:22.507172Z"
        },
        "papermill": {
          "duration": 0.021301,
          "end_time": "2024-02-21T13:29:22.509845",
          "exception": false,
          "start_time": "2024-02-21T13:29:22.488544",
          "status": "completed"
        },
        "tags": [],
        "id": "19435a86"
      },
      "outputs": [],
      "source": [
        "# Text cleaning\n",
        "text_cleaning = \"\\b0\\S*|\\b[^A-Za-z0-9]+\"\n",
        "\n",
        "def preprocess_filter(text, stem=False):\n",
        "  text = re.sub(text_cleaning, \" \",str(text.lower()).strip())\n",
        "  tokens = []\n",
        "  for token in text.split():\n",
        "    if token not in stop_words:\n",
        "      if stem:\n",
        "        stemmer = SnowballStemmer(language='english')\n",
        "        token = stemmer.stem(token)\n",
        "      tokens.append(token)\n",
        "  return \" \".join(tokens)"
      ]
    },
    {
      "cell_type": "markdown",
      "id": "aa1f8958",
      "metadata": {
        "papermill": {
          "duration": 0.012549,
          "end_time": "2024-02-21T13:29:22.535178",
          "exception": false,
          "start_time": "2024-02-21T13:29:22.522629",
          "status": "completed"
        },
        "tags": [],
        "id": "aa1f8958"
      },
      "source": [
        "* The regular expression pattern removes non-alphanumeric characters and digits, enhancing text cleanliness for subsequent analysis.\n",
        "* Text preprocessing function standardizes text by converting it to lowercase, removing stop words, and optionally applying stemming, facilitating effective natural language processing.\n",
        "* Stemming simplifies words to their root forms, aiding in capturing underlying semantic meanings and improving search accuracy.\n",
        "* Removal of stop words reduces noise in text data, focusing on informative words and enhancing the quality of subsequent analysis."
      ]
    },
    {
      "cell_type": "code",
      "execution_count": 16,
      "id": "78a61d9f",
      "metadata": {
        "execution": {
          "iopub.execute_input": "2024-02-21T13:29:22.562703Z",
          "iopub.status.busy": "2024-02-21T13:29:22.562351Z",
          "iopub.status.idle": "2024-02-21T13:29:22.566788Z",
          "shell.execute_reply": "2024-02-21T13:29:22.565969Z"
        },
        "papermill": {
          "duration": 0.020481,
          "end_time": "2024-02-21T13:29:22.568807",
          "exception": false,
          "start_time": "2024-02-21T13:29:22.548326",
          "status": "completed"
        },
        "tags": [],
        "id": "78a61d9f"
      },
      "outputs": [],
      "source": [
        "# Word embedding with pre padding\n",
        "def one_hot_encoded(text,vocab_size=5000,max_length = 40):\n",
        "    hot_encoded = one_hot(text,vocab_size)\n",
        "    return hot_encoded"
      ]
    },
    {
      "cell_type": "code",
      "execution_count": 17,
      "id": "5cc49304",
      "metadata": {
        "execution": {
          "iopub.execute_input": "2024-02-21T13:29:22.595725Z",
          "iopub.status.busy": "2024-02-21T13:29:22.595367Z",
          "iopub.status.idle": "2024-02-21T13:29:22.600053Z",
          "shell.execute_reply": "2024-02-21T13:29:22.599169Z"
        },
        "papermill": {
          "duration": 0.020475,
          "end_time": "2024-02-21T13:29:22.601989",
          "exception": false,
          "start_time": "2024-02-21T13:29:22.581514",
          "status": "completed"
        },
        "tags": [],
        "id": "5cc49304"
      },
      "outputs": [],
      "source": [
        "# word embedding pipeline\n",
        "def word_embedding(text):\n",
        "    preprocessed_text=preprocess_filter(text)\n",
        "    return one_hot_encoded(preprocessed_text)"
      ]
    },
    {
      "cell_type": "code",
      "execution_count": 18,
      "id": "a2ff29b0",
      "metadata": {
        "execution": {
          "iopub.execute_input": "2024-02-21T13:29:22.629825Z",
          "iopub.status.busy": "2024-02-21T13:29:22.629483Z",
          "iopub.status.idle": "2024-02-21T13:29:24.070985Z",
          "shell.execute_reply": "2024-02-21T13:29:24.069089Z"
        },
        "papermill": {
          "duration": 1.460307,
          "end_time": "2024-02-21T13:29:24.075647",
          "exception": false,
          "start_time": "2024-02-21T13:29:22.615340",
          "status": "completed"
        },
        "tags": [],
        "colab": {
          "base_uri": "https://localhost:8080/"
        },
        "id": "a2ff29b0",
        "outputId": "9ce12b6e-ef76-4bcc-8ea4-275f02788740"
      },
      "outputs": [
        {
          "output_type": "stream",
          "name": "stdout",
          "text": [
            "Model: \"sequential\"\n",
            "_________________________________________________________________\n",
            " Layer (type)                Output Shape              Param #   \n",
            "=================================================================\n",
            " embedding (Embedding)       (None, 41, 40)            200000    \n",
            "                                                                 \n",
            " lstm (LSTM)                 (None, 100)               56400     \n",
            "                                                                 \n",
            " dense (Dense)               (None, 1)                 101       \n",
            "                                                                 \n",
            "=================================================================\n",
            "Total params: 256501 (1001.96 KB)\n",
            "Trainable params: 256501 (1001.96 KB)\n",
            "Non-trainable params: 0 (0.00 Byte)\n",
            "_________________________________________________________________\n",
            "None\n"
          ]
        }
      ],
      "source": [
        "# Creating NN Model\n",
        "embedded_features = 40\n",
        "model = Sequential()\n",
        "model.add(Embedding(5000,embedded_features,input_length = max_length))\n",
        "model.add(LSTM(100))\n",
        "model.add(Dense(1,activation='sigmoid'))\n",
        "model.compile(loss = 'binary_crossentropy',optimizer= 'adam',metrics = ['accuracy'])\n",
        "print(model.summary())"
      ]
    },
    {
      "cell_type": "markdown",
      "id": "cf07b58d",
      "metadata": {
        "papermill": {
          "duration": 0.013948,
          "end_time": "2024-02-21T13:29:24.103641",
          "exception": false,
          "start_time": "2024-02-21T13:29:24.089693",
          "status": "completed"
        },
        "tags": [],
        "id": "cf07b58d"
      },
      "source": [
        "* The model utilizes a vocabulary size of 5000, reflecting the extensive nature of the dataset and the need to handle a wide range of words effectively.\n",
        "* By embedding input tokens into 40-dimensional vectors, the model captures nuanced semantic relationships, crucial for understanding the complex language patterns present in the dataset.\n",
        "* Leveraging an LSTM layer with 100 units, the model effectively learns from the extensive sequential data, ensuring it captures long-term dependencies and context effectively.\n",
        "* With a final dense layer employing a sigmoid activation function, the model delivers binary classification predictions, adeptly classifying the vast and varied dataset with accuracy."
      ]
    },
    {
      "cell_type": "code",
      "execution_count": 19,
      "id": "06c56628",
      "metadata": {
        "execution": {
          "iopub.execute_input": "2024-02-21T13:29:24.133726Z",
          "iopub.status.busy": "2024-02-21T13:29:24.133383Z",
          "iopub.status.idle": "2024-02-21T13:29:26.929430Z",
          "shell.execute_reply": "2024-02-21T13:29:26.928602Z"
        },
        "papermill": {
          "duration": 2.813512,
          "end_time": "2024-02-21T13:29:26.931690",
          "exception": false,
          "start_time": "2024-02-21T13:29:24.118178",
          "status": "completed"
        },
        "tags": [],
        "id": "06c56628"
      },
      "outputs": [],
      "source": [
        "# One hot encoded title\n",
        "one_hot_encoded_title =df['title'].apply(lambda x : word_embedding(x)).values"
      ]
    },
    {
      "cell_type": "code",
      "execution_count": 20,
      "id": "11a6fe4e",
      "metadata": {
        "execution": {
          "iopub.execute_input": "2024-02-21T13:29:26.961643Z",
          "iopub.status.busy": "2024-02-21T13:29:26.961324Z",
          "iopub.status.idle": "2024-02-21T13:29:27.165676Z",
          "shell.execute_reply": "2024-02-21T13:29:27.164884Z"
        },
        "papermill": {
          "duration": 0.221732,
          "end_time": "2024-02-21T13:29:27.167895",
          "exception": false,
          "start_time": "2024-02-21T13:29:26.946163",
          "status": "completed"
        },
        "tags": [],
        "id": "11a6fe4e"
      },
      "outputs": [],
      "source": [
        "# padding to make the size equal of the sequences\n",
        "padded_encoded_title = pad_sequences(one_hot_encoded_title,maxlen=max_length,padding = 'pre')"
      ]
    },
    {
      "cell_type": "code",
      "execution_count": 21,
      "id": "10ea0ce5",
      "metadata": {
        "execution": {
          "iopub.execute_input": "2024-02-21T13:29:27.198399Z",
          "iopub.status.busy": "2024-02-21T13:29:27.197733Z",
          "iopub.status.idle": "2024-02-21T13:29:27.203509Z",
          "shell.execute_reply": "2024-02-21T13:29:27.202667Z"
        },
        "papermill": {
          "duration": 0.023199,
          "end_time": "2024-02-21T13:29:27.205661",
          "exception": false,
          "start_time": "2024-02-21T13:29:27.182462",
          "status": "completed"
        },
        "tags": [],
        "colab": {
          "base_uri": "https://localhost:8080/"
        },
        "id": "10ea0ce5",
        "outputId": "6d1dc1b3-cbf2-4020-fa46-b6044503c6d4"
      },
      "outputs": [
        {
          "output_type": "stream",
          "name": "stdout",
          "text": [
            "(44898, 41)\n",
            "(44898,)\n"
          ]
        }
      ],
      "source": [
        "# Splitting\n",
        "X = padded_encoded_title\n",
        "y = df['status'].values\n",
        "y = np.array(y)\n",
        "\n",
        "# shapes\n",
        "print(X.shape)\n",
        "print(y.shape)"
      ]
    },
    {
      "cell_type": "code",
      "execution_count": 22,
      "id": "f2280628",
      "metadata": {
        "execution": {
          "iopub.execute_input": "2024-02-21T13:29:27.235938Z",
          "iopub.status.busy": "2024-02-21T13:29:27.235276Z",
          "iopub.status.idle": "2024-02-21T13:29:27.239763Z",
          "shell.execute_reply": "2024-02-21T13:29:27.238938Z"
        },
        "papermill": {
          "duration": 0.021913,
          "end_time": "2024-02-21T13:29:27.242291",
          "exception": false,
          "start_time": "2024-02-21T13:29:27.220378",
          "status": "completed"
        },
        "tags": [],
        "colab": {
          "base_uri": "https://localhost:8080/"
        },
        "id": "f2280628",
        "outputId": "ac74299f-da23-49a9-b29a-c425ff5ef4bd"
      },
      "outputs": [
        {
          "output_type": "stream",
          "name": "stdout",
          "text": [
            "X shape (44898, 41)\n",
            "y shape (44898,)\n"
          ]
        }
      ],
      "source": [
        "# shape and size\n",
        "print('X shape {}'.format(X.shape))\n",
        "print('y shape {}'.format(y.shape))"
      ]
    },
    {
      "cell_type": "code",
      "execution_count": 23,
      "id": "d1ee3afe",
      "metadata": {
        "execution": {
          "iopub.execute_input": "2024-02-21T13:29:27.272182Z",
          "iopub.status.busy": "2024-02-21T13:29:27.271452Z",
          "iopub.status.idle": "2024-02-21T13:29:27.288955Z",
          "shell.execute_reply": "2024-02-21T13:29:27.287868Z"
        },
        "papermill": {
          "duration": 0.034574,
          "end_time": "2024-02-21T13:29:27.290933",
          "exception": false,
          "start_time": "2024-02-21T13:29:27.256359",
          "status": "completed"
        },
        "tags": [],
        "colab": {
          "base_uri": "https://localhost:8080/"
        },
        "id": "d1ee3afe",
        "outputId": "0e0ec352-ea4c-4a10-bb3e-69b13e1f6eda"
      },
      "outputs": [
        {
          "output_type": "stream",
          "name": "stdout",
          "text": [
            "X train shape (33673, 41)\n",
            "X test shape (11225, 41)\n",
            "y train shape (33673,)\n",
            "y test shape (11225,)\n"
          ]
        }
      ],
      "source": [
        "# Splitting into training, testing\n",
        "X_train,X_test,y_train,y_test = train_test_split(X,y, random_state = 42)\n",
        "\n",
        "# Shape and size of train and test dataset\n",
        "print('X train shape {}'.format(X_train.shape))\n",
        "print('X test shape {}'.format(X_test.shape))\n",
        "print('y train shape {}'.format(y_train.shape))\n",
        "print('y test shape {}'.format(y_test.shape))"
      ]
    },
    {
      "cell_type": "code",
      "execution_count": null,
      "id": "06b942a7",
      "metadata": {
        "execution": {
          "iopub.execute_input": "2024-02-21T13:29:27.321459Z",
          "iopub.status.busy": "2024-02-21T13:29:27.320642Z",
          "iopub.status.idle": "2024-02-21T13:30:42.143126Z",
          "shell.execute_reply": "2024-02-21T13:30:42.142083Z"
        },
        "papermill": {
          "duration": 74.839792,
          "end_time": "2024-02-21T13:30:42.145228",
          "exception": false,
          "start_time": "2024-02-21T13:29:27.305436",
          "status": "completed"
        },
        "tags": [],
        "colab": {
          "base_uri": "https://localhost:8080/"
        },
        "id": "06b942a7",
        "outputId": "bf214fcf-c89d-4a0c-d27a-cd26ca7ecb84"
      },
      "outputs": [
        {
          "output_type": "stream",
          "name": "stdout",
          "text": [
            "Epoch 1/15\n",
            "527/527 [==============================] - 40s 70ms/step - loss: 0.2009 - accuracy: 0.9133 - val_loss: 0.1198 - val_accuracy: 0.9556\n",
            "Epoch 2/15\n",
            "527/527 [==============================] - 38s 71ms/step - loss: 0.0717 - accuracy: 0.9748 - val_loss: 0.1093 - val_accuracy: 0.9632\n",
            "Epoch 3/15\n",
            "527/527 [==============================] - 38s 73ms/step - loss: 0.0411 - accuracy: 0.9861 - val_loss: 0.1195 - val_accuracy: 0.9649\n",
            "Epoch 4/15\n",
            "527/527 [==============================] - 38s 72ms/step - loss: 0.0242 - accuracy: 0.9926 - val_loss: 0.1777 - val_accuracy: 0.9585\n",
            "Epoch 5/15\n",
            "527/527 [==============================] - 37s 70ms/step - loss: 0.0182 - accuracy: 0.9939 - val_loss: 0.1785 - val_accuracy: 0.9643\n",
            "Epoch 6/15\n",
            "527/527 [==============================] - 38s 72ms/step - loss: 0.0116 - accuracy: 0.9962 - val_loss: 0.1689 - val_accuracy: 0.9671\n",
            "Epoch 7/15\n",
            "527/527 [==============================] - 37s 69ms/step - loss: 0.0103 - accuracy: 0.9969 - val_loss: 0.1876 - val_accuracy: 0.9638\n",
            "Epoch 8/15\n",
            "527/527 [==============================] - 36s 68ms/step - loss: 0.0055 - accuracy: 0.9981 - val_loss: 0.2306 - val_accuracy: 0.9670\n",
            "Epoch 9/15\n",
            "527/527 [==============================] - 38s 71ms/step - loss: 0.0046 - accuracy: 0.9985 - val_loss: 0.2483 - val_accuracy: 0.9658\n",
            "Epoch 10/15\n",
            "527/527 [==============================] - 37s 70ms/step - loss: 0.0046 - accuracy: 0.9988 - val_loss: 0.2331 - val_accuracy: 0.9669\n",
            "Epoch 11/15\n",
            "527/527 [==============================] - 39s 73ms/step - loss: 0.0051 - accuracy: 0.9987 - val_loss: 0.2671 - val_accuracy: 0.9645\n",
            "Epoch 12/15\n",
            "251/527 [=============>................] - ETA: 16s - loss: 0.0038 - accuracy: 0.9988"
          ]
        }
      ],
      "source": [
        "# Model training\n",
        "# training\n",
        "model.fit(X_train,y_train,validation_data=(X_test,y_test),epochs=15,batch_size=64)"
      ]
    },
    {
      "cell_type": "markdown",
      "id": "3d6fcda7",
      "metadata": {
        "papermill": {
          "duration": 0.087499,
          "end_time": "2024-02-21T13:30:42.327522",
          "exception": false,
          "start_time": "2024-02-21T13:30:42.240023",
          "status": "completed"
        },
        "tags": [],
        "id": "3d6fcda7"
      },
      "source": [
        "## Evaluation"
      ]
    },
    {
      "cell_type": "code",
      "execution_count": null,
      "id": "39c999c2",
      "metadata": {
        "execution": {
          "iopub.execute_input": "2024-02-21T13:30:42.506284Z",
          "iopub.status.busy": "2024-02-21T13:30:42.505405Z",
          "iopub.status.idle": "2024-02-21T13:30:42.511429Z",
          "shell.execute_reply": "2024-02-21T13:30:42.510532Z"
        },
        "papermill": {
          "duration": 0.097686,
          "end_time": "2024-02-21T13:30:42.513504",
          "exception": false,
          "start_time": "2024-02-21T13:30:42.415818",
          "status": "completed"
        },
        "tags": [],
        "id": "39c999c2"
      },
      "outputs": [],
      "source": [
        "# setting threshold value\n",
        "def best_threshold_value(thresholds:list,X_test):\n",
        "    accuracies = []\n",
        "    for thresh in thresholds:\n",
        "        ypred =model.predict(X_test)\n",
        "        ypred = np.where(ypred> thresh,1,0)\n",
        "        accuracies.append(accuracy_score(y_test,ypred))\n",
        "    return pd.DataFrame({\n",
        "        'Threshold': thresholds,\n",
        "        'Accuracy' : accuracies\n",
        "    })"
      ]
    },
    {
      "cell_type": "code",
      "execution_count": null,
      "id": "1271d444",
      "metadata": {
        "execution": {
          "iopub.execute_input": "2024-02-21T13:30:42.691324Z",
          "iopub.status.busy": "2024-02-21T13:30:42.690374Z",
          "iopub.status.idle": "2024-02-21T13:30:48.993400Z",
          "shell.execute_reply": "2024-02-21T13:30:48.992366Z"
        },
        "papermill": {
          "duration": 6.394331,
          "end_time": "2024-02-21T13:30:48.995698",
          "exception": false,
          "start_time": "2024-02-21T13:30:42.601367",
          "status": "completed"
        },
        "tags": [],
        "id": "1271d444",
        "outputId": "fd15ff64-41ca-4700-d864-939e970dfd51"
      },
      "outputs": [
        {
          "name": "stdout",
          "output_type": "stream",
          "text": [
            "351/351 [==============================] - 1s 2ms/step\n",
            "351/351 [==============================] - 1s 2ms/step\n",
            "351/351 [==============================] - 1s 2ms/step\n",
            "351/351 [==============================] - 1s 2ms/step\n",
            "351/351 [==============================] - 1s 2ms/step\n",
            "351/351 [==============================] - 1s 2ms/step\n"
          ]
        },
        {
          "data": {
            "text/html": [
              "<div>\n",
              "<style scoped>\n",
              "    .dataframe tbody tr th:only-of-type {\n",
              "        vertical-align: middle;\n",
              "    }\n",
              "\n",
              "    .dataframe tbody tr th {\n",
              "        vertical-align: top;\n",
              "    }\n",
              "\n",
              "    .dataframe thead th {\n",
              "        text-align: right;\n",
              "    }\n",
              "</style>\n",
              "<table border=\"1\" class=\"dataframe\">\n",
              "  <thead>\n",
              "    <tr style=\"text-align: right;\">\n",
              "      <th></th>\n",
              "      <th>Threshold</th>\n",
              "      <th>Accuracy</th>\n",
              "    </tr>\n",
              "  </thead>\n",
              "  <tbody>\n",
              "    <tr>\n",
              "      <th>0</th>\n",
              "      <td>0.4</td>\n",
              "      <td>0.965880</td>\n",
              "    </tr>\n",
              "    <tr>\n",
              "      <th>1</th>\n",
              "      <td>0.5</td>\n",
              "      <td>0.965969</td>\n",
              "    </tr>\n",
              "    <tr>\n",
              "      <th>2</th>\n",
              "      <td>0.6</td>\n",
              "      <td>0.966325</td>\n",
              "    </tr>\n",
              "    <tr>\n",
              "      <th>3</th>\n",
              "      <td>0.7</td>\n",
              "      <td>0.966860</td>\n",
              "    </tr>\n",
              "    <tr>\n",
              "      <th>4</th>\n",
              "      <td>0.8</td>\n",
              "      <td>0.966860</td>\n",
              "    </tr>\n",
              "    <tr>\n",
              "      <th>5</th>\n",
              "      <td>0.9</td>\n",
              "      <td>0.966771</td>\n",
              "    </tr>\n",
              "  </tbody>\n",
              "</table>\n",
              "</div>"
            ],
            "text/plain": [
              "   Threshold  Accuracy\n",
              "0        0.4  0.965880\n",
              "1        0.5  0.965969\n",
              "2        0.6  0.966325\n",
              "3        0.7  0.966860\n",
              "4        0.8  0.966860\n",
              "5        0.9  0.966771"
            ]
          },
          "execution_count": 24,
          "metadata": {},
          "output_type": "execute_result"
        }
      ],
      "source": [
        "best_threshold_value([0.4,0.5,0.6,0.7,0.8,0.9], X_test)"
      ]
    },
    {
      "cell_type": "markdown",
      "id": "883ec0d0",
      "metadata": {
        "papermill": {
          "duration": 0.095143,
          "end_time": "2024-02-21T13:30:49.187711",
          "exception": false,
          "start_time": "2024-02-21T13:30:49.092568",
          "status": "completed"
        },
        "tags": [],
        "id": "883ec0d0"
      },
      "source": [
        "* Not much difference in accuray\n",
        "* But the most suitable threshold value we have got is **0.4**"
      ]
    },
    {
      "cell_type": "code",
      "execution_count": null,
      "id": "32b15f37",
      "metadata": {
        "execution": {
          "iopub.execute_input": "2024-02-21T13:30:49.382089Z",
          "iopub.status.busy": "2024-02-21T13:30:49.381281Z",
          "iopub.status.idle": "2024-02-21T13:30:50.335869Z",
          "shell.execute_reply": "2024-02-21T13:30:50.334956Z"
        },
        "papermill": {
          "duration": 1.053743,
          "end_time": "2024-02-21T13:30:50.338183",
          "exception": false,
          "start_time": "2024-02-21T13:30:49.284440",
          "status": "completed"
        },
        "tags": [],
        "id": "32b15f37",
        "outputId": "b41dad39-074a-4270-8192-19a2d33c7fb1"
      },
      "outputs": [
        {
          "name": "stdout",
          "output_type": "stream",
          "text": [
            "351/351 [==============================] - 1s 2ms/step\n"
          ]
        }
      ],
      "source": [
        "# Predictino value at threshold 0.4\n",
        "y_pred = model.predict(X_test)\n",
        "y_pred = np.where(y_pred >0.4, 1, 0)"
      ]
    },
    {
      "cell_type": "code",
      "execution_count": null,
      "id": "2161d043",
      "metadata": {
        "execution": {
          "iopub.execute_input": "2024-02-21T13:30:50.536046Z",
          "iopub.status.busy": "2024-02-21T13:30:50.535206Z",
          "iopub.status.idle": "2024-02-21T13:30:50.556228Z",
          "shell.execute_reply": "2024-02-21T13:30:50.555187Z"
        },
        "papermill": {
          "duration": 0.122109,
          "end_time": "2024-02-21T13:30:50.558496",
          "exception": false,
          "start_time": "2024-02-21T13:30:50.436387",
          "status": "completed"
        },
        "tags": [],
        "id": "2161d043",
        "outputId": "211102b0-da92-43b8-c50f-ec9393b49df6"
      },
      "outputs": [
        {
          "name": "stdout",
          "output_type": "stream",
          "text": [
            "Confusion matrix\n",
            "[[5045  153]\n",
            " [ 230 5797]]\n",
            "----------------\n",
            "Classification report\n",
            "              precision    recall  f1-score   support\n",
            "\n",
            "           0       0.96      0.97      0.96      5198\n",
            "           1       0.97      0.96      0.97      6027\n",
            "\n",
            "    accuracy                           0.97     11225\n",
            "   macro avg       0.97      0.97      0.97     11225\n",
            "weighted avg       0.97      0.97      0.97     11225\n",
            "\n"
          ]
        }
      ],
      "source": [
        "# Confusion matrix\n",
        "print('Confusion matrix')\n",
        "print(confusion_matrix(y_pred,y_test))\n",
        "print('----------------')\n",
        "print('Classification report')\n",
        "print(classification_report(y_pred,y_test))"
      ]
    },
    {
      "cell_type": "markdown",
      "id": "995c0ccc",
      "metadata": {
        "papermill": {
          "duration": 0.09719,
          "end_time": "2024-02-21T13:30:50.755980",
          "exception": false,
          "start_time": "2024-02-21T13:30:50.658790",
          "status": "completed"
        },
        "tags": [],
        "id": "995c0ccc"
      },
      "source": [
        "* The model performs well in both classes, with high precision, recall, and F1-score, suggesting robustness in classification.\n",
        "* There is no significant imbalance in performance between the two classes, as evidenced by similar metrics for both classes.\n",
        "* The model's overall performance is excellent, achieving high accuracy on the dataset."
      ]
    },
    {
      "cell_type": "markdown",
      "id": "76df8193",
      "metadata": {
        "papermill": {
          "duration": 0.09789,
          "end_time": "2024-02-21T13:30:50.952610",
          "exception": false,
          "start_time": "2024-02-21T13:30:50.854720",
          "status": "completed"
        },
        "tags": [],
        "id": "76df8193"
      },
      "source": [
        "## Predictions"
      ]
    },
    {
      "cell_type": "code",
      "execution_count": null,
      "id": "07497eca",
      "metadata": {
        "execution": {
          "iopub.execute_input": "2024-02-21T13:30:51.149670Z",
          "iopub.status.busy": "2024-02-21T13:30:51.148958Z",
          "iopub.status.idle": "2024-02-21T13:30:51.154773Z",
          "shell.execute_reply": "2024-02-21T13:30:51.153870Z"
        },
        "papermill": {
          "duration": 0.106506,
          "end_time": "2024-02-21T13:30:51.156814",
          "exception": false,
          "start_time": "2024-02-21T13:30:51.050308",
          "status": "completed"
        },
        "tags": [],
        "id": "07497eca"
      },
      "outputs": [],
      "source": [
        "# input generator\n",
        "def prediction_input_processing(text):\n",
        "    encoded = word_embedding(text)\n",
        "    padded_encoded_title = pad_sequences([encoded],maxlen=max_length,padding = 'pre')\n",
        "    output = model.predict(padded_encoded_title)\n",
        "    output = np.where(0.4>output,1,0)\n",
        "    if output[0][0] == 1:\n",
        "        return 'Yes this News is fake'\n",
        "    return 'No, It is not fake'\n",
        ""
      ]
    },
    {
      "cell_type": "code",
      "execution_count": null,
      "id": "63f01a45",
      "metadata": {
        "execution": {
          "iopub.execute_input": "2024-02-21T13:30:51.353676Z",
          "iopub.status.busy": "2024-02-21T13:30:51.352765Z",
          "iopub.status.idle": "2024-02-21T13:30:51.423365Z",
          "shell.execute_reply": "2024-02-21T13:30:51.422374Z"
        },
        "papermill": {
          "duration": 0.171824,
          "end_time": "2024-02-21T13:30:51.425277",
          "exception": false,
          "start_time": "2024-02-21T13:30:51.253453",
          "status": "completed"
        },
        "tags": [],
        "id": "63f01a45",
        "outputId": "4dc816a3-7cfb-4638-bcbd-cb60fadb1ce4"
      },
      "outputs": [
        {
          "name": "stdout",
          "output_type": "stream",
          "text": [
            "1/1 [==============================] - 0s 20ms/step\n"
          ]
        },
        {
          "data": {
            "text/plain": [
              "'Yes this News is fake'"
            ]
          },
          "execution_count": 28,
          "metadata": {},
          "output_type": "execute_result"
        }
      ],
      "source": [
        "# predictions\n",
        "prediction_input_processing('Americans are more concerned over Indians fake open source contribution')"
      ]
    },
    {
      "cell_type": "code",
      "execution_count": null,
      "id": "f03eae57",
      "metadata": {
        "execution": {
          "iopub.execute_input": "2024-02-21T13:30:51.623490Z",
          "iopub.status.busy": "2024-02-21T13:30:51.623043Z",
          "iopub.status.idle": "2024-02-21T13:30:51.691389Z",
          "shell.execute_reply": "2024-02-21T13:30:51.690383Z"
        },
        "papermill": {
          "duration": 0.170213,
          "end_time": "2024-02-21T13:30:51.693312",
          "exception": false,
          "start_time": "2024-02-21T13:30:51.523099",
          "status": "completed"
        },
        "tags": [],
        "id": "f03eae57",
        "outputId": "ba23efbb-eb07-4040-bf07-78f19802c1ad"
      },
      "outputs": [
        {
          "name": "stdout",
          "output_type": "stream",
          "text": [
            "1/1 [==============================] - 0s 19ms/step\n"
          ]
        },
        {
          "data": {
            "text/plain": [
              "'No, It is not fake'"
            ]
          },
          "execution_count": 29,
          "metadata": {},
          "output_type": "execute_result"
        }
      ],
      "source": [
        "news = 'Trump Just Sent Michelle Obama a Bill She will Never Be able to pay in her lifetime'\n",
        "prediction_input_processing(news)"
      ]
    },
    {
      "cell_type": "markdown",
      "id": "198c8a3c",
      "metadata": {
        "papermill": {
          "duration": 0.097917,
          "end_time": "2024-02-21T13:30:51.890865",
          "exception": false,
          "start_time": "2024-02-21T13:30:51.792948",
          "status": "completed"
        },
        "tags": [],
        "id": "198c8a3c"
      },
      "source": [
        "__________________________________________________________"
      ]
    },
    {
      "cell_type": "markdown",
      "id": "c061c4cf",
      "metadata": {
        "papermill": {
          "duration": 0.097704,
          "end_time": "2024-02-21T13:30:52.086600",
          "exception": false,
          "start_time": "2024-02-21T13:30:51.988896",
          "status": "completed"
        },
        "tags": [],
        "id": "c061c4cf"
      },
      "source": [
        "# आभारं तव कालाय। भगवान् त्वां धन्यतां प्रददातु।🙏🙏"
      ]
    },
    {
      "cell_type": "markdown",
      "id": "17bf1405",
      "metadata": {
        "papermill": {
          "duration": 0.097379,
          "end_time": "2024-02-21T13:30:52.281603",
          "exception": false,
          "start_time": "2024-02-21T13:30:52.184224",
          "status": "completed"
        },
        "tags": [],
        "id": "17bf1405"
      },
      "source": [
        "________________________________________________________________"
      ]
    }
  ],
  "metadata": {
    "kaggle": {
      "accelerator": "none",
      "dataSources": [
        {
          "datasetId": 2712039,
          "sourceId": 4679796,
          "sourceType": "datasetVersion"
        }
      ],
      "dockerImageVersionId": 30646,
      "isGpuEnabled": false,
      "isInternetEnabled": true,
      "language": "python",
      "sourceType": "notebook"
    },
    "kernelspec": {
      "display_name": "Python 3",
      "language": "python",
      "name": "python3"
    },
    "language_info": {
      "codemirror_mode": {
        "name": "ipython",
        "version": 3
      },
      "file_extension": ".py",
      "mimetype": "text/x-python",
      "name": "python",
      "nbconvert_exporter": "python",
      "pygments_lexer": "ipython3",
      "version": "3.10.13"
    },
    "papermill": {
      "default_parameters": {},
      "duration": 112.275839,
      "end_time": "2024-02-21T13:30:55.062062",
      "environment_variables": {},
      "exception": null,
      "input_path": "__notebook__.ipynb",
      "output_path": "__notebook__.ipynb",
      "parameters": {},
      "start_time": "2024-02-21T13:29:02.786223",
      "version": "2.5.0"
    },
    "colab": {
      "provenance": []
    }
  },
  "nbformat": 4,
  "nbformat_minor": 5
}